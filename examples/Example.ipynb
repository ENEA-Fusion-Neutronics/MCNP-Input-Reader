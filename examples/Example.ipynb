{
 "cells": [
  {
   "cell_type": "code",
   "execution_count": 1,
   "metadata": {},
   "outputs": [],
   "source": [
    "import mcnp_input_reader as mir"
   ]
  },
  {
   "cell_type": "code",
   "execution_count": 2,
   "metadata": {},
   "outputs": [],
   "source": [
    "inputfile = 'input.i'"
   ]
  },
  {
   "cell_type": "code",
   "execution_count": 3,
   "metadata": {},
   "outputs": [
    {
     "name": "stdout",
     "output_type": "stream",
     "text": [
      "Water phantom\r\n",
      "c Cell cards\r\n",
      "1 1 -1.0 2 -1 4 -3 5 -6 fill=1 imp:p,e 1\r\n",
      "c Water phantom\r\n",
      "10 1 -1.0 2 -1 4 -3 5 -10 lat=1 u=1 imp:p,e 1\r\n",
      "c Lattice call for dose deposition\r\n",
      "100 2 -0.001293 (101 -102 -100) #1 imp:p,e 1\r\n",
      "c Air around\r\n",
      "999 0 -101:102:100 imp:p=0 imp:e=0\r\n",
      "c Void cell\r\n",
      "\r\n",
      "c Surface cards\r\n",
      "c Water phantom\r\n",
      "1 px 5\r\n",
      "2 px -5\r\n",
      "3 py 5\r\n",
      "4 py -5\r\n",
      "5 pz 10\r\n",
      "6 pz 20\r\n",
      "c Lattice cell\r\n",
      "10 pz 11\r\n",
      "c Cylinder around the problem\r\n",
      "100 cz 9\r\n",
      "101 pz -0.1\r\n",
      "102 pz 25\r\n",
      "\r\n",
      "c Data cards\r\n",
      "mode p e\r\n",
      "c Materials\r\n",
      "m1 1000. 2\r\n",
      " 8000. 1 $Water\r\n",
      "m2 7014.\r\n",
      " -0.755636 $air (US S. Atm at sea level)\r\n",
      "8016.\r\n",
      " -0.231475 18000.\r\n",
      " -0.012889\r\n",
      "c Source cards\r\n",
      "sdef pos=0 0 0 x=d1 y=d2 z=0 erg=10 par=2 $\r\n",
      "si1 -6 6\r\n",
      "sp1 0 1\r\n",
      "si2 -6 6\r\n",
      "sp2 0 1\r\n",
      "c Tallies\r\n",
      "F1:p 6\r\n",
      "e1 1 99i 10 $ Energy spectrum, step 0.1 MV\r\n",
      "*F8:p (10<10[0:0 0:0 -9:0]) $Depth dose tally\r\n",
      "cut:e j 0.1 $100 keV (default is 1 keV)\r\n",
      "cut:p j 0.01 $10 keV (default is 1 keV)\r\n",
      "PHYS:P 4j 1 $turns off Doppler broadening\r\n",
      "nps 1000000\r\n"
     ]
    }
   ],
   "source": [
    "!cat $inputfile"
   ]
  },
  {
   "cell_type": "code",
   "execution_count": 4,
   "metadata": {},
   "outputs": [],
   "source": [
    "mcnp_input = mir.read_file(inputfile)"
   ]
  },
  {
   "cell_type": "code",
   "execution_count": 5,
   "metadata": {},
   "outputs": [
    {
     "data": {
      "text/plain": [
       "Title: Water phantom\n",
       "\n",
       "The input contains:\n",
       "# of cells: 4\n",
       "# of surfaces: 10\n",
       "# of materials: 2\n",
       "# of transformations: 0"
      ]
     },
     "execution_count": 5,
     "metadata": {},
     "output_type": "execute_result"
    }
   ],
   "source": [
    "mcnp_input"
   ]
  },
  {
   "cell_type": "code",
   "execution_count": 6,
   "metadata": {},
   "outputs": [
    {
     "data": {
      "text/plain": [
       "<MCNPCells>: [1, 10, 100, 999]"
      ]
     },
     "execution_count": 6,
     "metadata": {},
     "output_type": "execute_result"
    }
   ],
   "source": [
    "mcnp_input.cells"
   ]
  },
  {
   "cell_type": "code",
   "execution_count": 7,
   "metadata": {},
   "outputs": [
    {
     "data": {
      "text/plain": [
       "MCNPCell(id=10, mat_id=1, density=-1.0, geometry='2 -1 4 -3 5 -10', fill_id=0, fill_type='', universe_id=1, imp_p=1.0, imp_n=0.0, imp_e=1.0, transf='', transf_id=0, lat=1, start_line=4, end_line=5, comment='Lattice call for dose deposition', input_cell_description='10 1 -1.0 2 -1 4 -3 5 -10 lat=1 u=1 imp:p,e 1\\nc Lattice call for dose deposition', surfaces={1, 2, 3, 4, 5, 10}, not_cells=set())"
      ]
     },
     "execution_count": 7,
     "metadata": {},
     "output_type": "execute_result"
    }
   ],
   "source": [
    "mcnp_input.cells[10]"
   ]
  },
  {
   "cell_type": "code",
   "execution_count": 8,
   "metadata": {},
   "outputs": [
    {
     "name": "stdout",
     "output_type": "stream",
     "text": [
      "<MCNPCell>\n",
      "id = 10\n",
      "mat_id = 1\n",
      "density = -1.0\n",
      "geometry = 2 -1 4 -3 5 -10\n",
      "surfaces = {1, 2, 3, 4, 5, 10}\n",
      "not_cells = set()\n",
      "fill_id = 0\n",
      "fill_type = \n",
      "universe_id = 1\n",
      "imp_p = 1.0\n",
      "imp_n = 0.0\n",
      "imp_e = 1.0\n",
      "transf = \n",
      "transf_id = 0\n",
      "lat = 1\n",
      "start_line = 4\n",
      "end_line = 5\n",
      "comment = Lattice call for dose deposition\n",
      "input_cell_description: \n",
      "10 1 -1.0 2 -1 4 -3 5 -10 lat=1 u=1 imp:p,e 1\n",
      "c Lattice call for dose deposition\n",
      "\n"
     ]
    }
   ],
   "source": [
    "print(mcnp_input.cells[10])"
   ]
  },
  {
   "cell_type": "code",
   "execution_count": 9,
   "metadata": {},
   "outputs": [
    {
     "data": {
      "text/plain": [
       "<MCNPSurfs>: [1, 2, 3, 4, 5, 6, 10, 100, 101, 102]"
      ]
     },
     "execution_count": 9,
     "metadata": {},
     "output_type": "execute_result"
    }
   ],
   "source": [
    "mcnp_input.surfaces"
   ]
  },
  {
   "cell_type": "code",
   "execution_count": 10,
   "metadata": {},
   "outputs": [
    {
     "data": {
      "text/plain": [
       "MCNPSurf(id=100, surface_type='CZ', surface_parameters='9', transf_id=0, start_line=22, end_line=22, input_surface_description='100 CZ 9')"
      ]
     },
     "execution_count": 10,
     "metadata": {},
     "output_type": "execute_result"
    }
   ],
   "source": [
    "mcnp_input.surfaces[100]"
   ]
  },
  {
   "cell_type": "code",
   "execution_count": 11,
   "metadata": {},
   "outputs": [
    {
     "data": {
      "text/plain": [
       "<MCNPMaterials>: [1, 2]"
      ]
     },
     "execution_count": 11,
     "metadata": {},
     "output_type": "execute_result"
    }
   ],
   "source": [
    "mcnp_input.materials"
   ]
  },
  {
   "cell_type": "code",
   "execution_count": 12,
   "metadata": {},
   "outputs": [
    {
     "data": {
      "text/plain": [
       "MCNPMaterial(id=1, composition='1000. 2 8000. 1', start_line=29, end_line=30, input_material_description='M1 1000. 2\\n 8000. 1 $WATER')"
      ]
     },
     "execution_count": 12,
     "metadata": {},
     "output_type": "execute_result"
    }
   ],
   "source": [
    "mcnp_input.materials[1]"
   ]
  },
  {
   "cell_type": "markdown",
   "metadata": {},
   "source": [
    "## Cell methods"
   ]
  },
  {
   "cell_type": "code",
   "execution_count": 13,
   "metadata": {},
   "outputs": [
    {
     "data": {
      "text/plain": [
       "{1, 2, 3, 4, 5, 6, 10, 100, 101, 102}"
      ]
     },
     "execution_count": 13,
     "metadata": {},
     "output_type": "execute_result"
    }
   ],
   "source": [
    "mcnp_input.cells.get_surfaces()"
   ]
  },
  {
   "cell_type": "code",
   "execution_count": 14,
   "metadata": {},
   "outputs": [
    {
     "data": {
      "text/plain": [
       "{1, 2}"
      ]
     },
     "execution_count": 14,
     "metadata": {},
     "output_type": "execute_result"
    }
   ],
   "source": [
    "mcnp_input.cells.get_materials()"
   ]
  },
  {
   "cell_type": "code",
   "execution_count": 15,
   "metadata": {},
   "outputs": [
    {
     "data": {
      "text/plain": [
       "{1}"
      ]
     },
     "execution_count": 15,
     "metadata": {},
     "output_type": "execute_result"
    }
   ],
   "source": [
    "mcnp_input.cells.get_fill_ids()"
   ]
  },
  {
   "cell_type": "code",
   "execution_count": 16,
   "metadata": {},
   "outputs": [
    {
     "data": {
      "text/plain": [
       "{1}"
      ]
     },
     "execution_count": 16,
     "metadata": {},
     "output_type": "execute_result"
    }
   ],
   "source": [
    "mcnp_input.cells.get_universe_ids()"
   ]
  },
  {
   "cell_type": "code",
   "execution_count": 17,
   "metadata": {},
   "outputs": [
    {
     "data": {
      "text/plain": [
       "set()"
      ]
     },
     "execution_count": 17,
     "metadata": {},
     "output_type": "execute_result"
    }
   ],
   "source": [
    "mcnp_input.cells.get_transformations()"
   ]
  },
  {
   "cell_type": "markdown",
   "metadata": {},
   "source": [
    "## Filter Capabilities"
   ]
  },
  {
   "cell_type": "code",
   "execution_count": 18,
   "metadata": {},
   "outputs": [
    {
     "data": {
      "text/plain": [
       "<MCNPCells>: [1, 10]"
      ]
     },
     "execution_count": 18,
     "metadata": {},
     "output_type": "execute_result"
    }
   ],
   "source": [
    "mcnp_input.cells.filter(lambda cell: cell.mat_id == 1)"
   ]
  },
  {
   "cell_type": "code",
   "execution_count": 19,
   "metadata": {},
   "outputs": [
    {
     "data": {
      "text/plain": [
       "<MCNPCells>: [100]"
      ]
     },
     "execution_count": 19,
     "metadata": {},
     "output_type": "execute_result"
    }
   ],
   "source": [
    "mcnp_input.cells.filter(lambda cell: cell.mat_id == 2)"
   ]
  },
  {
   "cell_type": "code",
   "execution_count": 20,
   "metadata": {},
   "outputs": [
    {
     "data": {
      "text/plain": [
       "<MCNPCells>: [1, 10]"
      ]
     },
     "execution_count": 20,
     "metadata": {},
     "output_type": "execute_result"
    }
   ],
   "source": [
    "mcnp_input.cells.filter(lambda cell: cell.id < 20)"
   ]
  },
  {
   "cell_type": "code",
   "execution_count": 21,
   "metadata": {},
   "outputs": [
    {
     "data": {
      "text/plain": [
       "<MCNPCells>: [1, 10, 100]"
      ]
     },
     "execution_count": 21,
     "metadata": {},
     "output_type": "execute_result"
    }
   ],
   "source": [
    "mcnp_input.cells.filter(lambda cell: cell.start_line < 7)"
   ]
  },
  {
   "cell_type": "code",
   "execution_count": 22,
   "metadata": {},
   "outputs": [
    {
     "data": {
      "text/plain": [
       "<MCNPCells>: [999]"
      ]
     },
     "execution_count": 22,
     "metadata": {},
     "output_type": "execute_result"
    }
   ],
   "source": [
    "mcnp_input.cells.filter(lambda cell: cell.start_line in range(7, 20))"
   ]
  },
  {
   "cell_type": "code",
   "execution_count": 23,
   "metadata": {},
   "outputs": [
    {
     "data": {
      "text/plain": [
       "{100, 101, 102}"
      ]
     },
     "execution_count": 23,
     "metadata": {},
     "output_type": "execute_result"
    }
   ],
   "source": [
    "mcnp_input.cells.filter(lambda cell: cell.mat_id == 2).get_surfaces()"
   ]
  },
  {
   "cell_type": "code",
   "execution_count": 24,
   "metadata": {},
   "outputs": [
    {
     "data": {
      "text/plain": [
       "<MCNPSurfs>: [1, 2, 3, 4, 5, 6]"
      ]
     },
     "execution_count": 24,
     "metadata": {},
     "output_type": "execute_result"
    }
   ],
   "source": [
    "mcnp_input.surfaces.filter(lambda surf: surf.id < 10)"
   ]
  },
  {
   "cell_type": "markdown",
   "metadata": {},
   "source": [
    "## Extract method"
   ]
  },
  {
   "cell_type": "code",
   "execution_count": 25,
   "metadata": {},
   "outputs": [
    {
     "data": {
      "text/plain": [
       "Title: Extracted from Water phantom\n",
       "\n",
       "The input contains:\n",
       "# of cells: 1\n",
       "# of surfaces: 3\n",
       "# of materials: 1\n",
       "# of transformations: 0"
      ]
     },
     "execution_count": 25,
     "metadata": {},
     "output_type": "execute_result"
    }
   ],
   "source": [
    "mcnp_input.extract(lambda cell: cell.mat_id == 2)"
   ]
  },
  {
   "cell_type": "code",
   "execution_count": 26,
   "metadata": {},
   "outputs": [
    {
     "data": {
      "text/plain": [
       "[[4, 6], [13, 14], [14, 15], [15, 16], [16, 17], [17, 18], [20, 22], [29, 31]]"
      ]
     },
     "execution_count": 26,
     "metadata": {},
     "output_type": "execute_result"
    }
   ],
   "source": [
    "mcnp_input.extract(lambda cell: cell.universe_id == 1).get_start_end_lines() # list of start-stop line numbers"
   ]
  },
  {
   "cell_type": "markdown",
   "metadata": {},
   "source": [
    "## to_csv method"
   ]
  },
  {
   "cell_type": "code",
   "execution_count": 27,
   "metadata": {},
   "outputs": [],
   "source": [
    "mcnp_input.cells.to_csv('cells.csv', ['id','mat_id','density','fill_id'])"
   ]
  },
  {
   "cell_type": "code",
   "execution_count": 28,
   "metadata": {},
   "outputs": [
    {
     "name": "stdout",
     "output_type": "stream",
     "text": [
      "id,mat_id,density,fill_id\r",
      "\r\n",
      "1,1,-1.0,1\r",
      "\r\n",
      "10,1,-1.0,0\r",
      "\r\n",
      "100,2,-0.001293,0\r",
      "\r\n",
      "999,0,0.0,0\r",
      "\r\n"
     ]
    }
   ],
   "source": [
    "!cat cells.csv"
   ]
  }
 ],
 "metadata": {
  "kernelspec": {
   "display_name": "Python 3",
   "language": "python",
   "name": "python3"
  },
  "language_info": {
   "codemirror_mode": {
    "name": "ipython",
    "version": 3
   },
   "file_extension": ".py",
   "mimetype": "text/x-python",
   "name": "python",
   "nbconvert_exporter": "python",
   "pygments_lexer": "ipython3",
   "version": "3.8.5"
  }
 },
 "nbformat": 4,
 "nbformat_minor": 4
}
