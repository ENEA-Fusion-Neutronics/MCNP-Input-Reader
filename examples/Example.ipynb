{
 "cells": [
  {
   "cell_type": "code",
   "execution_count": 1,
   "metadata": {},
   "outputs": [],
   "source": [
    "import mcnp_input_reader as mir"
   ]
  },
  {
   "cell_type": "code",
   "execution_count": 2,
   "metadata": {},
   "outputs": [],
   "source": [
    "import re"
   ]
  },
  {
   "cell_type": "code",
   "execution_count": 3,
   "metadata": {},
   "outputs": [],
   "source": [
    "input_path = '/home/giovanni/lavoro/ITER/ITER_lower_port_14_sector7/E-lite_R200430'"
   ]
  },
  {
   "cell_type": "code",
   "execution_count": 4,
   "metadata": {},
   "outputs": [
    {
     "ename": "NameError",
     "evalue": "name 'inputfile' is not defined",
     "output_type": "error",
     "traceback": [
      "\u001b[0;31m---------------------------------------------------------------------------\u001b[0m",
      "\u001b[0;31mNameError\u001b[0m                                 Traceback (most recent call last)",
      "\u001b[0;32m<ipython-input-4-ebd89ae5688a>\u001b[0m in \u001b[0;36m<module>\u001b[0;34m\u001b[0m\n\u001b[0;32m----> 1\u001b[0;31m \u001b[0mmcnp_input\u001b[0m \u001b[0;34m=\u001b[0m \u001b[0mmir\u001b[0m\u001b[0;34m.\u001b[0m\u001b[0mread_file\u001b[0m\u001b[0;34m(\u001b[0m\u001b[0minputfile\u001b[0m\u001b[0;34m)\u001b[0m\u001b[0;34m\u001b[0m\u001b[0;34m\u001b[0m\u001b[0m\n\u001b[0m",
      "\u001b[0;31mNameError\u001b[0m: name 'inputfile' is not defined"
     ]
    }
   ],
   "source": [
    "mcnp_input = mir.read_file(inputfile)"
   ]
  },
  {
   "cell_type": "code",
   "execution_count": 7,
   "metadata": {},
   "outputs": [],
   "source": [
    "u10043 = mcnp_input.extract(lambda cell: cell.universe_id == 10043)"
   ]
  },
  {
   "cell_type": "code",
   "execution_count": 4,
   "metadata": {},
   "outputs": [],
   "source": [
    "def finditer_with_line_numbers(pattern, string, flags=0):\n",
    "    '''\n",
    "    A version of 're.finditer' that returns '(match, line_number)' pairs.\n",
    "    '''\n",
    "\n",
    "    matches = list(re.finditer(pattern, string, flags))\n",
    "    if not matches:\n",
    "        return []\n",
    "\n",
    "    end = matches[-1].end()\n",
    "    # -1 so a failed 'rfind' maps to the first line.\n",
    "    newline_table = {-1: 0}\n",
    "    for i, m in enumerate(re.finditer(r'\\n', string), 1):\n",
    "        # don't find newlines past our last match\n",
    "        offset = m.start()\n",
    "        if offset > end:\n",
    "            break\n",
    "        newline_table[offset] = i\n",
    "\n",
    "    # Failing to find the newline is OK, -1 maps to 0.\n",
    "    for m in matches:\n",
    "        newline_offset = string.rfind('\\n', 0, m.start())\n",
    "        newline_offset_end = string.rfind('\\n', 0, m.end())\n",
    "        line_number = newline_table[newline_offset]\n",
    "        line_number_end = newline_table[newline_offset_end]\n",
    "        yield (m, line_number, line_number_end)"
   ]
  },
  {
   "cell_type": "code",
   "execution_count": 5,
   "metadata": {},
   "outputs": [],
   "source": [
    "elite_input = mir.read_file(input_path)\n",
    "first_cell_line = elite_input.cells.get_start_end_lines()[0][0]\n",
    "elite_lines = elite_input.lines \n",
    "headings_lines = []\n",
    "for line in elite_lines:\n",
    "    if 'MAIN HEADINGS' in line:\n",
    "        headings_lines.append(line)\n",
    "    elif headings_lines:\n",
    "        if line.upper().startswith('C'):\n",
    "            headings_lines.append(line)\n",
    "        else:\n",
    "            break\n",
    "headings_lines = ''.join(headings_lines)\n"
   ]
  },
  {
   "cell_type": "code",
   "execution_count": 57,
   "metadata": {},
   "outputs": [],
   "source": [
    "heading_sep_pattern = re.compile(r\"^C\\s+-+.\", re.DOTALL|re.MULTILINE)\n",
    "elite_headings = re.search(heading_sep_pattern, headings_lines)\n",
    "heading_sep = elite_headings.group()\n",
    "headers_list = headings_lines.split(elite_headings.group())[1:-1]"
   ]
  },
  {
   "cell_type": "code",
   "execution_count": 58,
   "metadata": {},
   "outputs": [
    {
     "name": "stdout",
     "output_type": "stream",
     "text": [
      "['\\nC                   ENVELOPE STRUCTURE OF SECTOR 1\\nC                          PORTS: 1 - 2 - 3\\nC                            (+30 degrees)\\n', '\\nC                 ENVELOPE STRUCTURE OF SECTORS 2 and 3\\nC                              NBI SECTOR\\nC                       PORTS: 3 - 4 - 5 - 6 - 7\\n', '\\nC                   ENVELOPE STRUCTURE OF SECTOR 4\\nC                          PORTS: 7 - 8 - 9\\nC                            (+150 degrees)\\n', '\\nC                   ENVELOPE STRUCTURE OF SECTOR 5\\nC                          PORTS: 9 - 10 - 11\\nC                            (-170 degrees)\\n', '\\nC                   ENVELOPE STRUCTURE OF SECTOR 6\\nC                          PORTS: 11 - 12 - 13\\nC                            (-130 degrees)\\n', '\\nC                   ENVELOPE STRUCTURE OF SECTOR 7\\nC                          PORTS: 13 - 14 - 15\\nC                            (-90 degrees)\\n', '\\nC                   ENVELOPE STRUCTURE OF SECTOR 8\\nC                          PORTS: 15 - 16 - 17\\nC                            (-50 degrees)\\n', '\\nC                   ENVELOPE STRUCTURE OF SECTOR 9\\nC                          PORTS: 17 - 18 - 1\\nC                            (-10 degrees)\\n', '\\nC                        B2 LEVEL CROWN ENVELOPES \\nC                          SECTORS 1 and 4 - 9\\n', '\\nC                    UNIVERSES OF C-MODEL R181031\\n', '\\nC                  UNIVERSES OF NBI MODEL v1.1\\n', '\\nC                      UNIVERSES OF PORTS                         \\n', '\\nC                     REMOTE HANDLING LOWER PORT                     \\n', '\\nC                        EQUATORIAL PORT #01                         \\n', '\\nC                        EQUATORIAL PORT #08                         \\n', '\\nC                        EQUATORIAL PORT #10                         \\n', '\\nC                        EQUATORIAL PORT #11                         \\n', '\\nC                        EQUATORIAL PORT #12                         \\n', '\\nC                           ECH PORT #14                            \\n', '\\nC                          ICH PORT #15                            \\n', '\\nC                          TBM PORT #16                            \\n', '\\nC                         UPPER PORT #01                           \\n', '\\nC                        UPPER PORT #03                           \\n', '\\nC                    ECH UPPER LAUNCHER PORT                       \\n', '\\nC                        UPPER PORT #17                            \\n', '\\nC                         UPPER PORT #18                           \\n']\n"
     ]
    }
   ],
   "source": [
    "print(headers_list)"
   ]
  },
  {
   "cell_type": "code",
   "execution_count": 60,
   "metadata": {},
   "outputs": [
    {
     "name": "stdout",
     "output_type": "stream",
     "text": [
      "C                   ENVELOPE STRUCTURE OF SECTOR 1\n",
      "C                          PORTS: 1 - 2 - 3\n",
      "C                            (+30 degrees)\n",
      "C                 ENVELOPE STRUCTURE OF SECTORS 2 and 3\n",
      "C                              NBI SECTOR\n",
      "C                       PORTS: 3 - 4 - 5 - 6 - 7\n",
      "C                   ENVELOPE STRUCTURE OF SECTOR 4\n",
      "C                          PORTS: 7 - 8 - 9\n",
      "C                            (+150 degrees)\n",
      "C                   ENVELOPE STRUCTURE OF SECTOR 5\n",
      "C                          PORTS: 9 - 10 - 11\n",
      "C                            (-170 degrees)\n",
      "C                   ENVELOPE STRUCTURE OF SECTOR 6\n",
      "C                          PORTS: 11 - 12 - 13\n",
      "C                            (-130 degrees)\n",
      "C                   ENVELOPE STRUCTURE OF SECTOR 7\n",
      "C                          PORTS: 13 - 14 - 15\n",
      "C                            (-90 degrees)\n",
      "C                   ENVELOPE STRUCTURE OF SECTOR 8\n",
      "C                          PORTS: 15 - 16 - 17\n",
      "C                            (-50 degrees)\n",
      "C                   ENVELOPE STRUCTURE OF SECTOR 9\n",
      "C                          PORTS: 17 - 18 - 1\n",
      "C                            (-10 degrees)\n",
      "C                        B2 LEVEL CROWN ENVELOPES \n",
      "C                          SECTORS 1 and 4 - 9\n",
      "C                    UNIVERSES OF C-MODEL R181031\n",
      "C                  UNIVERSES OF NBI MODEL v1.1\n",
      "C                      UNIVERSES OF PORTS\n",
      "C                     REMOTE HANDLING LOWER PORT\n",
      "C                        EQUATORIAL PORT #01\n",
      "C                        EQUATORIAL PORT #08\n",
      "C                        EQUATORIAL PORT #10\n",
      "C                        EQUATORIAL PORT #11\n",
      "C                        EQUATORIAL PORT #12\n",
      "C                           ECH PORT #14\n",
      "C                          ICH PORT #15\n",
      "C                          TBM PORT #16\n",
      "C                         UPPER PORT #01\n",
      "C                        UPPER PORT #03\n",
      "C                    ECH UPPER LAUNCHER PORT\n",
      "C                        UPPER PORT #17\n",
      "C                         UPPER PORT #18\n"
     ]
    }
   ],
   "source": [
    "for head in headers_list:\n",
    "    print(head.strip())"
   ]
  },
  {
   "cell_type": "code",
   "execution_count": 22,
   "metadata": {},
   "outputs": [],
   "source": [
    "import re\n",
    "re_pattern = re.compile(r\"C\\s+Title\\s+:.*?^C\\s+Transforms\", re.DOTALL|re.MULTILINE)"
   ]
  },
  {
   "cell_type": "code",
   "execution_count": 24,
   "metadata": {},
   "outputs": [],
   "source": [
    "csv_gen = [row for row in elite_comments]"
   ]
  },
  {
   "cell_type": "code",
   "execution_count": 105,
   "metadata": {},
   "outputs": [],
   "source": [
    "lista = []\n",
    "for i, row in enumerate(csv_gen):\n",
    "    if i < len(csv_gen) - 1:\n",
    "        lista.append([row[2],csv_gen[i+1][1], row[1],csv_gen[i+1][1]])"
   ]
  },
  {
   "cell_type": "code",
   "execution_count": 81,
   "metadata": {},
   "outputs": [
    {
     "data": {
      "text/plain": [
       "(<re.Match object; span=(300169, 301284), match='C Title         : BM01_C03\\nC Author        : A. >,\n",
       " 8511,\n",
       " 8531)"
      ]
     },
     "execution_count": 81,
     "metadata": {},
     "output_type": "execute_result"
    }
   ],
   "source": [
    "csv_gen[0][]"
   ]
  },
  {
   "cell_type": "code",
   "execution_count": 109,
   "metadata": {},
   "outputs": [],
   "source": [
    "lines2 = []\n",
    "for l in lista:\n",
    "    #append_line = []\n",
    "    if all(row.upper().startswith('C') for row in u10043.lines[l[2]:l[1]]):\n",
    "        lines2.append([l[2],l[1]])\n",
    "    #for row in u10043.lines[l[0]:l[1]]:\n",
    "    #    if row[0].upper() == 'C':\n",
    "    #        append_line.append(False)\n",
    "    #    else:\n",
    "    #        append_line.append(True)\n",
    "    #if not any(append_line):\n",
    "    #    lines.append([l[2],l[3]])\n",
    "    "
   ]
  },
  {
   "cell_type": "code",
   "execution_count": 78,
   "metadata": {},
   "outputs": [
    {
     "data": {
      "text/plain": [
       "True"
      ]
     },
     "execution_count": 78,
     "metadata": {},
     "output_type": "execute_result"
    }
   ],
   "source": [
    "def all_lines_start_with_c(lines, list_range_lines):\n",
    "    list_c_line_numbers = []\n",
    "    for range_line in list_range_lines:\n",
    "        if all(row.upper().startswith('C') for row in lines[range_lines[0]:range_lines[1]]):\n",
    "            list_c_line_numbers.append(range_line)\n",
    "    return list_c_line_numbers"
   ]
  },
  {
   "cell_type": "code",
   "execution_count": 69,
   "metadata": {},
   "outputs": [],
   "source": [
    "lines = []\n",
    "for l in lista:\n",
    "    append_line = []\n",
    "    #if  any(not row.upper().startswith('C') for row in u10043.lines[l[0]:l[1]]):\n",
    "    #    lines.append([l[2],l[3]])\n",
    "    for row in u10043.lines[l[0]:l[1]]:\n",
    "        if row[0].upper() == 'C':\n",
    "            append_line.append(False)\n",
    "        else:\n",
    "            append_line.append(True)\n",
    "    if not any(append_line):\n",
    "        lines.append([l[2],l[3]])"
   ]
  },
  {
   "cell_type": "code",
   "execution_count": 110,
   "metadata": {},
   "outputs": [
    {
     "data": {
      "text/plain": [
       "[[63782, 97151], [126628, 132981]]"
      ]
     },
     "execution_count": 110,
     "metadata": {},
     "output_type": "execute_result"
    }
   ],
   "source": [
    "[l for l in lines if l not in lines2]"
   ]
  },
  {
   "cell_type": "code",
   "execution_count": 108,
   "metadata": {},
   "outputs": [
    {
     "data": {
      "text/plain": [
       "[[8511, 8554],\n",
       " [8554, 8597],\n",
       " [8597, 8639],\n",
       " [8639, 8681],\n",
       " [8681, 8723],\n",
       " [8723, 8767],\n",
       " [8767, 8809],\n",
       " [8809, 8852],\n",
       " [8852, 8894],\n",
       " [8894, 8936],\n",
       " [8936, 8978],\n",
       " [8978, 9022],\n",
       " [9022, 9756],\n",
       " [9756, 10520],\n",
       " [10520, 10742],\n",
       " [10742, 10782],\n",
       " [10782, 10822],\n",
       " [10822, 10867],\n",
       " [10867, 10907],\n",
       " [10907, 10947],\n",
       " [10947, 10987],\n",
       " [10987, 11027],\n",
       " [11027, 11068],\n",
       " [11068, 11110],\n",
       " [11110, 11146],\n",
       " [11146, 11186],\n",
       " [11186, 11226],\n",
       " [11226, 11266],\n",
       " [11266, 11306],\n",
       " [11306, 11351],\n",
       " [11351, 11396],\n",
       " [11396, 11432],\n",
       " [11432, 11476],\n",
       " [11476, 11498],\n",
       " [11498, 11681],\n",
       " [11681, 11713],\n",
       " [11713, 11758],\n",
       " [11758, 11827],\n",
       " [11827, 11857],\n",
       " [11857, 11879],\n",
       " [11879, 11901],\n",
       " [11901, 11923],\n",
       " [11923, 11944],\n",
       " [11944, 11973],\n",
       " [11973, 11995],\n",
       " [11995, 12017],\n",
       " [12017, 12038],\n",
       " [12038, 12059],\n",
       " [12059, 12080],\n",
       " [12080, 12214],\n",
       " [12214, 12282],\n",
       " [12282, 12312],\n",
       " [12312, 12329],\n",
       " [12329, 12360],\n",
       " [12360, 12391],\n",
       " [12391, 12422],\n",
       " [12422, 12453],\n",
       " [12453, 12484],\n",
       " [12484, 12516],\n",
       " [12516, 12538],\n",
       " [12538, 12591],\n",
       " [12591, 12957],\n",
       " [12957, 13019],\n",
       " [13019, 19393],\n",
       " [19393, 19423],\n",
       " [19423, 19454],\n",
       " [19454, 19485],\n",
       " [19485, 19516],\n",
       " [19516, 19547],\n",
       " [19547, 19579],\n",
       " [19579, 19600],\n",
       " [19600, 19621],\n",
       " [19621, 19654],\n",
       " [19654, 19673],\n",
       " [19673, 19694],\n",
       " [19694, 19714],\n",
       " [19714, 20229],\n",
       " [20229, 20252],\n",
       " [20252, 20281],\n",
       " [20281, 20334],\n",
       " [20334, 20356],\n",
       " [20356, 20378],\n",
       " [20378, 20425],\n",
       " [20425, 20516],\n",
       " [20516, 20538],\n",
       " [20538, 20578],\n",
       " [20578, 20618],\n",
       " [20618, 20658],\n",
       " [20658, 20698],\n",
       " [20698, 20739],\n",
       " [20739, 20793],\n",
       " [20793, 22068],\n",
       " [22068, 22111],\n",
       " [22111, 22156],\n",
       " [22156, 22199],\n",
       " [22199, 22242],\n",
       " [22242, 22285],\n",
       " [22285, 22508],\n",
       " [22508, 22771],\n",
       " [22771, 23027],\n",
       " [23027, 23297],\n",
       " [23297, 23318],\n",
       " [23318, 23341],\n",
       " [23341, 23364],\n",
       " [23364, 23385],\n",
       " [23385, 23427],\n",
       " [23427, 23467],\n",
       " [23467, 28167],\n",
       " [28167, 28212],\n",
       " [28212, 28255],\n",
       " [28255, 28289],\n",
       " [28289, 28323],\n",
       " [28323, 28373],\n",
       " [28373, 28402],\n",
       " [28402, 28421],\n",
       " [28421, 28439],\n",
       " [28439, 28466],\n",
       " [28466, 28484],\n",
       " [28484, 28504],\n",
       " [28504, 28531],\n",
       " [28531, 28564],\n",
       " [28564, 28582],\n",
       " [28582, 28602],\n",
       " [28602, 28642],\n",
       " [28642, 28668],\n",
       " [28668, 28710],\n",
       " [28710, 28738],\n",
       " [28738, 28756],\n",
       " [28756, 28774],\n",
       " [28774, 28796],\n",
       " [28796, 28814],\n",
       " [28814, 28840],\n",
       " [28840, 28858],\n",
       " [28858, 28877],\n",
       " [28877, 28897],\n",
       " [28897, 28917],\n",
       " [28917, 28935],\n",
       " [28935, 28972],\n",
       " [28972, 28995],\n",
       " [28995, 29067],\n",
       " [63668, 63693],\n",
       " [63693, 63716],\n",
       " [63716, 63742],\n",
       " [63742, 63782],\n",
       " [63782, 97151],\n",
       " [97151, 97186],\n",
       " [97186, 97227],\n",
       " [97227, 97268],\n",
       " [97268, 97306],\n",
       " [97306, 97341],\n",
       " [97341, 97378],\n",
       " [97378, 97410],\n",
       " [97410, 97454],\n",
       " [97454, 97493],\n",
       " [97493, 97564],\n",
       " [97564, 97617],\n",
       " [97617, 97648],\n",
       " [97648, 97679],\n",
       " [97679, 97737],\n",
       " [97737, 97789],\n",
       " [97789, 97862],\n",
       " [97862, 97937],\n",
       " [97937, 98016],\n",
       " [98016, 98079],\n",
       " [98079, 98152],\n",
       " [98152, 98210],\n",
       " [98210, 98285],\n",
       " [98285, 98355],\n",
       " [98355, 98419],\n",
       " [98419, 98487],\n",
       " [98487, 98565],\n",
       " [98565, 98638],\n",
       " [98638, 98687],\n",
       " [98687, 98718],\n",
       " [98718, 98755],\n",
       " [98755, 98789],\n",
       " [98789, 98832],\n",
       " [98832, 98882],\n",
       " [98882, 98907],\n",
       " [98907, 98925],\n",
       " [98925, 98961],\n",
       " [98961, 98979],\n",
       " [98979, 98998],\n",
       " [98998, 99017],\n",
       " [99017, 99036],\n",
       " [99036, 99066],\n",
       " [99066, 99088],\n",
       " [99088, 99111],\n",
       " [99111, 99158],\n",
       " [99158, 99205],\n",
       " [99205, 99242],\n",
       " [99242, 99273],\n",
       " [99273, 99303],\n",
       " [99303, 99330],\n",
       " [99330, 99367],\n",
       " [99367, 99416],\n",
       " [99416, 99456],\n",
       " [99456, 99496],\n",
       " [99496, 99552],\n",
       " [99552, 99595],\n",
       " [99595, 99633],\n",
       " [99633, 99651],\n",
       " [99651, 99693],\n",
       " [99693, 99768],\n",
       " [99768, 99804],\n",
       " [99804, 99934],\n",
       " [99934, 99953],\n",
       " [99953, 99971],\n",
       " [99971, 99992],\n",
       " [99992, 100013],\n",
       " [100013, 100031],\n",
       " [100031, 100051],\n",
       " [100051, 100070],\n",
       " [100070, 100130],\n",
       " [100130, 100149],\n",
       " [100149, 100167],\n",
       " [100167, 100189],\n",
       " [100189, 100225],\n",
       " [100225, 100268],\n",
       " [100268, 100303],\n",
       " [100303, 100340],\n",
       " [100340, 100358],\n",
       " [100358, 100384],\n",
       " [100384, 100413],\n",
       " [100413, 100444],\n",
       " [100444, 100479],\n",
       " [100479, 100517],\n",
       " [100517, 100558],\n",
       " [100558, 100603],\n",
       " [100603, 100646],\n",
       " [100646, 100697],\n",
       " [100697, 100754],\n",
       " [100754, 100827],\n",
       " [100827, 100865],\n",
       " [100865, 100898],\n",
       " [100898, 100932],\n",
       " [100932, 100970],\n",
       " [100970, 101004],\n",
       " [101004, 101038],\n",
       " [101038, 101095],\n",
       " [101095, 101165],\n",
       " [101165, 101242],\n",
       " [101242, 101316],\n",
       " [101316, 101335],\n",
       " [101335, 101354],\n",
       " [101354, 101372],\n",
       " [101372, 101392],\n",
       " [101392, 101425],\n",
       " [101425, 101452],\n",
       " [101452, 101519],\n",
       " [101519, 101554],\n",
       " [101554, 101606],\n",
       " [101606, 101640],\n",
       " [101640, 101672],\n",
       " [101672, 101716],\n",
       " [101716, 101774],\n",
       " [101774, 101799],\n",
       " [101799, 101820],\n",
       " [101820, 101841],\n",
       " [101841, 101862],\n",
       " [101862, 101889],\n",
       " [101889, 101963],\n",
       " [101963, 101991],\n",
       " [101991, 102009],\n",
       " [102009, 102029],\n",
       " [102029, 102118],\n",
       " [102118, 102212],\n",
       " [102212, 102239],\n",
       " [102239, 102264],\n",
       " [102264, 102282],\n",
       " [102282, 102300],\n",
       " [102300, 102322],\n",
       " [102322, 102341],\n",
       " [102341, 102361],\n",
       " [102361, 102381],\n",
       " [102381, 102398],\n",
       " [102398, 102418],\n",
       " [102418, 102438],\n",
       " [102438, 102457],\n",
       " [102457, 102487],\n",
       " [102487, 102510],\n",
       " [102510, 102551],\n",
       " [126217, 126245],\n",
       " [126245, 126270],\n",
       " [126270, 126302],\n",
       " [126302, 126339],\n",
       " [126339, 126628],\n",
       " [126628, 132981],\n",
       " [132981, 133250],\n",
       " [133250, 133299]]"
      ]
     },
     "execution_count": 108,
     "metadata": {},
     "output_type": "execute_result"
    }
   ],
   "source": [
    "lines2"
   ]
  },
  {
   "cell_type": "code",
   "execution_count": 103,
   "metadata": {},
   "outputs": [
    {
     "data": {
      "text/plain": [
       "[(84318, '\\n')]"
      ]
     },
     "execution_count": 103,
     "metadata": {},
     "output_type": "execute_result"
    }
   ],
   "source": [
    "[(i+63782,l) for i, l in enumerate(u10043.lines[63782:97151]) if not l.upper().startswith('C') ]"
   ]
  },
  {
   "cell_type": "code",
   "execution_count": 55,
   "metadata": {},
   "outputs": [],
   "source": [
    "import itertools\n",
    "iter_tools_line_numers = itertools.chain.from_iterable([*map(range, *zip(*lines))])\n",
    "dict_line_numbers_itertools = {n: False for n in iter_tools_line_numers }"
   ]
  },
  {
   "cell_type": "code",
   "execution_count": 56,
   "metadata": {},
   "outputs": [],
   "source": [
    "lines = []\n",
    "\n",
    "for n, line in enumerate(u10043.lines):\n",
    "    if dict_line_numbers_itertools.get(n, True):\n",
    "        lines.append(line)"
   ]
  },
  {
   "cell_type": "code",
   "execution_count": 57,
   "metadata": {},
   "outputs": [],
   "source": [
    "with open('u10043_2', 'w') as f:\n",
    "    f.writelines(lines)"
   ]
  },
  {
   "cell_type": "code",
   "execution_count": 10,
   "metadata": {},
   "outputs": [],
   "source": [
    "BM16BL_lower_block = [380437, 380438, 380439, 380440, 380441, 380442, 380443, 380444, 380445, 380446, 380447, 380448, 380449, 380450, 380451, 380452, 380453, 380454, 380455, 380456, 380457, 380458, 380459, 380460, 380461, 380462, 380463, 380464, 380465, 380466, 380467, 380468, 380469, 380470, 380471, 380472, 380473, 380474, 380475, 380476, 380477, 380478, 380479, 380480, 380481, 380482, 380483, 380484, 380485, 380486, 380487, 380488, 380489, 380490, 380491, 380492, 380493, 380494, 380495, 380496, 380497, 380498, 380499, 380500, 380501, 380502, 380503, 380504, 380505, 380506, 380507, 380508, 380509, 380510, 380511, 380512, 380513, 380514, 380515, 380516, 380517, 380518, 380519, 380520, 380521, 380522, 380523, 380524, 380525, 380526, 380527, 380528, 380529, 380530, 380531, 380532, 380533, 380534, 380535, 380536, 380537, 380538, 380539, 380540, 380541, 380542, 380543, 380544, 380545, 380546, 380547, 380548, 380549, 380550, 380551, 380552, 380553, 380554, 380555, 380556, 380557, 380558, 380559, 380560, 380561, 380562, 380563, 380564, 380565, 380566, 380567, 380568, 380569, 380570, 380571, 380572, 380573, 380574, 380575, 380576, 380577, 380578, 380579, 380580, 380581, 380582, 380583, 380584, 380585, 380586, 380587, 380588, 380589, 380590, 380591, 380592, 380593, 380594, 380595, 380596, 380597, 380598, 380599, 380600, 380601, 380602, 380603, 380604, 380605, 380606, 380607, 380610, 380611, 380612, 380613, 380614, 380615, 380616, 380617, 380618, 380619, 380620, 380621, 380622, 380623, 380624, 380625, 380626, 380627, 380628, 380629, 380630, 380631, 380632, 380633, 380634, 380635, 380636, 380637, 380638, 380639, 380640, 380641, 380642, 380643, 380644, 380645, 380646, 380648, 380647, 381668, 381242, 381254, 381246, 381247, 381243, 381669, 381250, 381255, 381670, 381671, 381672, 381674, 381675, 381676, 381677, 381678]\n",
    "\n",
    "BM15NDL_mid_block = [370270, 370271, 370272, 370273, 370274, 370275, 370276, 370277, 370278, 370279, 370280, 370281, 370282, 370283, 370284, 370285, 370286, 370287, 370288, 370289, 370290, 370291, 370292, 370293, 370294, 370295, 370296, 370297, 370298, 370299, 370300, 370301, 370302, 370303, 370304, 370305, 370306, 370307, 370308, 370309, 370310, 370311, 370312, 370313, 370314, 370315, 370316, 370317, 370318, 370319, 370320, 370321, 370322, 370323, 370324, 370325, 370326, 370327, 370328, 370329, 370330, 370331, 370332, 370333, 370334, 370335, 370336, 370337, 370338, 370339, 370340, 370341, 370342, 370343, 370344, 370345, 370346, 370347, 370348, 370349, 370350, 370351, 370352, 370353, 370354, 370355, 370356, 370357, 370358, 370359, 370360, 370361, 370363, 370364, 370366, 370367, 370365, 370368, 370370, 370371, 370372, 370373, 370374, 370375, 370376, 370377, 370378, 370379, 370380, 370381, 370382, 370383, 370384, 370385, 370386, 370387, 370388, 370389, 370390, 370391, 370392, 370393, 370394, 370395, 370396, 370397, 370398, 370399, 370400, 373986]\n",
    "\n",
    "BM14NDL_upper_block = [359351, 359352, 359353, 359354, 359355, 359356, 359357, 359358, 359359, 359360, 359361, 359362, 359363, 359364, 359365, 359366, 359367, 359368, 359369, 359370, 359371, 359372, 359373, 359374, 359375, 359376, 359377, 359378, 359379, 359380, 359381, 359382, 359383, 359384, 359385, 359386, 359387, 359388, 359389, 359390, 359391, 359392, 359393, 359394, 359395, 359396, 359397, 359398, 359399, 359400, 359401, 359402, 359403, 359404, 359405, 359406, 359407, 359408, 359409, 359410, 359411, 359412, 359413, 359414, 359415, 359416, 359417, 359418, 359419, 359420, 359421, 359422, 359423, 359424, 359425, 359426, 359427, 359428, 359429, 359430, 359431, 359432, 359433, 359434, 359435, 359436, 359437, 359438, 359439, 359440, 359441, 359442, 359443, 359444, 359445, 359446, 359447, 359448, 359449, 359450, 359451, 359452, 359453, 359454, 359455, 359456, 359457, 359458, 359459, 359460, 359461, 359462, 359463, 359464, 359465, 359466, 359467, 359468, 359469, 359470, 359471, 359472, 359473, 359474, 359475, 359476, 359477, 359478, 359479, 359480, 359481, 359482, 359483, 359484, 359485, 359486, 359487, 359488, 359489, 359490, 359491, 359492, 359493, 359494, 359495, 359496, 359497, 359498, 359499, 359500, 359501, 359502, 359503, 359504, 359505, 359506, 359507, 359508, 359509, 359510, 359511, 359512, 359513, 359514, 359515, 359516, 359517, 359518, 359519, 359520, 359521, 359522, 359523, 359524, 359525, 359526, 359527, 359528, 359529, 359530, 359531, 359532, 359533, 359534, 359535, 359536, 359537, 359538, 359539, 359540, 359541, 359542, 359543, 359544, 359545, 359546, 360631, 362152, 362153, 362154, 362155, 362156, 362157, 362158, 362159, 362160, 362161, 362162]"
   ]
  },
  {
   "cell_type": "code",
   "execution_count": 53,
   "metadata": {
    "scrolled": false
   },
   "outputs": [
    {
     "data": {
      "text/plain": [
       "{101, 108, 109, 302, 400, 700, 701, 702, 706, 727, 730, 761, 9126}"
      ]
     },
     "execution_count": 53,
     "metadata": {},
     "output_type": "execute_result"
    }
   ],
   "source": [
    "mcnp_input.cells.filter(lambda cell: cell.id in BM14NDL_upper_block + BM15NDL_mid_block + BM14NDL_upper_block).get_materials()"
   ]
  },
  {
   "cell_type": "code",
   "execution_count": 54,
   "metadata": {
    "scrolled": false
   },
   "outputs": [
    {
     "data": {
      "text/plain": [
       "13"
      ]
     },
     "execution_count": 54,
     "metadata": {},
     "output_type": "execute_result"
    }
   ],
   "source": [
    "len([101, 108, 109, 302, 400, 700, 701, 702, 706, 727, 730, 761, 9126])"
   ]
  },
  {
   "cell_type": "code",
   "execution_count": 12,
   "metadata": {},
   "outputs": [
    {
     "name": "stdout",
     "output_type": "stream",
     "text": [
      "M734\n",
      "C BM16 S04 SB3 VARIATION, DENSITY CORRECTION: 1.00254\n",
      "C ***********************************\n",
      "C *  WATER (126C;4MPA)\n",
      "C *  MASS DENSITY [G/CC] - 0.9401\n",
      "C *  VOLUME FRACTION [%] - 7.10\n",
      "C *  \n",
      "C ***********************************\n",
      "C \n",
      "C \n",
      "         1001.31C 4.46193E-003 $ H  1 AMOUNT(%)  2.0000 AB(%) 99.99\n",
      "         1002.31C 5.13180E-007 $ H  2 AMOUNT(%)  2.0000 AB(%)  0.01\n",
      "         8016.31C 2.22580E-003 $ O 16 AMOUNT(%)  1.0000 AB(%) 99.76\n",
      "C *  \n",
      "C *  T.A.D. = 6.69366E-003\n",
      "C *  EFF.DENSITY = 6.67471E-002\n",
      "C ***********************************\n",
      "C *  SS316L(N)-IG\n",
      "C *  MASS DENSITY [G/CC] - 7.93\n",
      "C *  VOLUME FRACTION [%] - 92.90\n",
      "C *  \n",
      "C ***********************************\n",
      "C \n",
      "C \n",
      "         6012.31C 1.09628E-004 $ C 12 WEIGHT(%)  0.0300 AB(%) 98.93\n",
      "        25055.31C 1.61509E-003 $MN 55 WEIGHT(%)  2.0000\n",
      "        28058.31C 6.43219E-003 $NI 58 WEIGHT(%) 12.5000 AB(%) 68.08\n",
      "        28060.31C 2.47767E-003 $NI 60 WEIGHT(%) 12.5000 AB(%) 26.22\n",
      "        28061.31C 1.07703E-004 $NI 61 WEIGHT(%) 12.5000 AB(%)  1.14\n",
      "        28062.31C 3.43403E-004 $NI 62 WEIGHT(%) 12.5000 AB(%)  3.63\n",
      "        28064.31C 8.74546E-005 $NI 64 WEIGHT(%) 12.5000 AB(%)  0.93\n",
      "        24050.31C 6.67315E-004 $CR 50 WEIGHT(%) 18.0000 AB(%)  4.35\n",
      "        24052.31C 1.28685E-002 $CR 52 WEIGHT(%) 18.0000 AB(%) 83.79\n",
      "        24053.31C 1.45919E-003 $CR 53 WEIGHT(%) 18.0000 AB(%)  9.50\n",
      "        24054.31C 3.63222E-004 $CR 54 WEIGHT(%) 18.0000 AB(%)  2.37\n",
      "        42092.31C 1.85301E-004 $MO 92 WEIGHT(%)  2.7000 AB(%) 14.84\n",
      "        42094.31C 1.15501E-004 $MO 94 WEIGHT(%)  2.7000 AB(%)  9.25\n",
      "        42095.31C 1.98786E-004 $MO 95 WEIGHT(%)  2.7000 AB(%) 15.92\n",
      "        42096.31C 2.08276E-004 $MO 96 WEIGHT(%)  2.7000 AB(%) 16.68\n",
      "        42097.31C 1.19247E-004 $MO 97 WEIGHT(%)  2.7000 AB(%)  9.55\n",
      "        42098.31C 3.01301E-004 $MO 98 WEIGHT(%)  2.7000 AB(%) 24.13\n",
      "        42100.31C 1.20246E-004 $MO100 WEIGHT(%)  2.7000 AB(%)  9.63\n",
      "         7014.31C 2.52459E-004 $ N 14 WEIGHT(%)  0.0800 AB(%) 99.63\n",
      "         7015.31C 9.32481E-007 $ N 15 WEIGHT(%)  0.0800 AB(%)  0.37\n",
      "        15031.31C 3.58085E-005 $ P 31 WEIGHT(%)  0.0250\n",
      "        16032.31C   1.31340E-005 $ S 32 WEIGHT(%)  0.0100 AB(%) 94.93\n",
      "        16033.31C   1.05150E-007 $ S 32 WEIGHT(%)  0.0100 AB(%) 94.93\n",
      "        16034.31C   5.93543E-007 $ S 32 WEIGHT(%)  0.0100 AB(%) 94.93\n",
      "        16036.31C   2.76710E-009 $ S 32 WEIGHT(%)  0.0100 AB(%) 94.93\n",
      "        14028.31C 7.28441E-004 $SI 28 WEIGHT(%)  0.5000 AB(%) 92.23\n",
      "        14029.31C 3.69881E-005 $SI 29 WEIGHT(%)  0.5000 AB(%)  4.68\n",
      "        14030.31C 2.43827E-005 $SI 30 WEIGHT(%)  0.5000 AB(%)  3.09\n",
      "        29063.31C 1.44875E-004 $CU 63 WEIGHT(%)  0.3000 AB(%) 69.17\n",
      "        29065.31C 6.45727E-005 $CU 65 WEIGHT(%)  0.3000 AB(%) 30.83\n",
      "        73181.31C 2.45151E-006 $TA181 WEIGHT(%)  0.0100 AB(%) 99.99\n",
      "        22046.31C 7.64644E-006 $TI 46 WEIGHT(%)  0.1000 AB(%)  8.25\n",
      "        22047.31C 6.89570E-006 $TI 47 WEIGHT(%)  0.1000 AB(%)  7.44\n",
      "        22048.31C 6.83268E-005 $TI 48 WEIGHT(%)  0.1000 AB(%) 73.72\n",
      "        22049.31C 5.01421E-006 $TI 49 WEIGHT(%)  0.1000 AB(%)  5.41\n",
      "        22050.31C 4.80104E-006 $TI 50 WEIGHT(%)  0.1000 AB(%)  5.18\n",
      "         5010.31C 8.16633E-007 $ B 10 WEIGHT(%)  0.0010 AB(%) 19.90\n",
      "         5011.31C 3.28705E-006 $ B 11 WEIGHT(%)  0.0010 AB(%) 80.10\n",
      "        41093.31C 4.77523E-005 $NB 93 WEIGHT(%)  0.1000\n",
      "        27059.31C 3.76400E-005 $CO 59 WEIGHT(%)  0.0500\n",
      "        26054.31C 2.95295E-003 $FE 54 WEIGHT(%) 63.5940 AB(%)  5.85\n",
      "        26056.31C 4.63549E-002 $FE 56 WEIGHT(%) 63.5940 AB(%) 91.75\n",
      "        26057.31C 1.07054E-003 $FE 57 WEIGHT(%) 63.5940 AB(%)  2.12\n",
      "        26058.31C 1.42469E-004 $FE 58 WEIGHT(%) 63.5940 AB(%)  0.28\n",
      "C *  \n"
     ]
    }
   ],
   "source": [
    "print(mcnp_input.materials[734].input_material_description)"
   ]
  },
  {
   "cell_type": "code",
   "execution_count": 9,
   "metadata": {},
   "outputs": [
    {
     "data": {
      "text/plain": [
       "<MCNPMaterials>: [1, 2]"
      ]
     },
     "execution_count": 9,
     "metadata": {},
     "output_type": "execute_result"
    }
   ],
   "source": [
    "mcnp_input.materials"
   ]
  },
  {
   "cell_type": "code",
   "execution_count": 10,
   "metadata": {},
   "outputs": [
    {
     "data": {
      "text/plain": [
       "MCNPMaterial(id=1, composition='1000. 2 8000. 1', start_line=29, end_line=30, input_material_description='M1 1000. 2\\n 8000. 1 $WATER')"
      ]
     },
     "execution_count": 10,
     "metadata": {},
     "output_type": "execute_result"
    }
   ],
   "source": [
    "mcnp_input.materials[1]"
   ]
  },
  {
   "cell_type": "markdown",
   "metadata": {},
   "source": [
    "## Cell methods"
   ]
  },
  {
   "cell_type": "code",
   "execution_count": 11,
   "metadata": {},
   "outputs": [
    {
     "data": {
      "text/plain": [
       "{1, 2, 3, 4, 5, 6, 10, 100, 101, 102}"
      ]
     },
     "execution_count": 11,
     "metadata": {},
     "output_type": "execute_result"
    }
   ],
   "source": [
    "mcnp_input.cells.get_surfaces()"
   ]
  },
  {
   "cell_type": "code",
   "execution_count": 12,
   "metadata": {},
   "outputs": [
    {
     "data": {
      "text/plain": [
       "{1, 2}"
      ]
     },
     "execution_count": 12,
     "metadata": {},
     "output_type": "execute_result"
    }
   ],
   "source": [
    "mcnp_input.cells.get_materials()"
   ]
  },
  {
   "cell_type": "code",
   "execution_count": 13,
   "metadata": {},
   "outputs": [
    {
     "data": {
      "text/plain": [
       "{1}"
      ]
     },
     "execution_count": 13,
     "metadata": {},
     "output_type": "execute_result"
    }
   ],
   "source": [
    "mcnp_input.cells.get_fill_ids()"
   ]
  },
  {
   "cell_type": "code",
   "execution_count": 14,
   "metadata": {},
   "outputs": [
    {
     "data": {
      "text/plain": [
       "{1}"
      ]
     },
     "execution_count": 14,
     "metadata": {},
     "output_type": "execute_result"
    }
   ],
   "source": [
    "mcnp_input.cells.get_universe_ids()"
   ]
  },
  {
   "cell_type": "code",
   "execution_count": 15,
   "metadata": {},
   "outputs": [
    {
     "data": {
      "text/plain": [
       "set()"
      ]
     },
     "execution_count": 15,
     "metadata": {},
     "output_type": "execute_result"
    }
   ],
   "source": [
    "mcnp_input.cells.get_transformations()"
   ]
  },
  {
   "cell_type": "markdown",
   "metadata": {},
   "source": [
    "## Filter Capabilities"
   ]
  },
  {
   "cell_type": "code",
   "execution_count": 16,
   "metadata": {},
   "outputs": [
    {
     "data": {
      "text/plain": [
       "id          |mat_id      |density     |imp_n       |imp_p       |universe_id |fill_id     \n",
       "------------------------------------------------------------------------------------------\n",
       "1           |1           |-1.0        |0.0         |1.0         |0           |1           \n",
       "10          |1           |-1.0        |0.0         |1.0         |1           |0           "
      ]
     },
     "execution_count": 16,
     "metadata": {},
     "output_type": "execute_result"
    }
   ],
   "source": [
    "mcnp_input.cells.filter(lambda cell: cell.mat_id == 1)"
   ]
  },
  {
   "cell_type": "code",
   "execution_count": 17,
   "metadata": {},
   "outputs": [
    {
     "data": {
      "text/plain": [
       "id          |mat_id      |density     |imp_n       |imp_p       |universe_id |fill_id     \n",
       "------------------------------------------------------------------------------------------\n",
       "100         |2           |-0.001293   |0.0         |1.0         |0           |0           "
      ]
     },
     "execution_count": 17,
     "metadata": {},
     "output_type": "execute_result"
    }
   ],
   "source": [
    "mcnp_input.cells.filter(lambda cell: cell.mat_id == 2)"
   ]
  },
  {
   "cell_type": "code",
   "execution_count": 18,
   "metadata": {},
   "outputs": [
    {
     "data": {
      "text/plain": [
       "id          |mat_id      |density     |imp_n       |imp_p       |universe_id |fill_id     \n",
       "------------------------------------------------------------------------------------------\n",
       "1           |1           |-1.0        |0.0         |1.0         |0           |1           \n",
       "10          |1           |-1.0        |0.0         |1.0         |1           |0           "
      ]
     },
     "execution_count": 18,
     "metadata": {},
     "output_type": "execute_result"
    }
   ],
   "source": [
    "mcnp_input.cells.filter(lambda cell: cell.id < 20)"
   ]
  },
  {
   "cell_type": "code",
   "execution_count": 19,
   "metadata": {},
   "outputs": [
    {
     "data": {
      "text/plain": [
       "id          |mat_id      |density     |imp_n       |imp_p       |universe_id |fill_id     \n",
       "------------------------------------------------------------------------------------------\n",
       "1           |1           |-1.0        |0.0         |1.0         |0           |1           \n",
       "10          |1           |-1.0        |0.0         |1.0         |1           |0           \n",
       "100         |2           |-0.001293   |0.0         |1.0         |0           |0           "
      ]
     },
     "execution_count": 19,
     "metadata": {},
     "output_type": "execute_result"
    }
   ],
   "source": [
    "mcnp_input.cells.filter(lambda cell: cell.start_line < 7)"
   ]
  },
  {
   "cell_type": "code",
   "execution_count": 20,
   "metadata": {},
   "outputs": [
    {
     "data": {
      "text/plain": [
       "id          |mat_id      |density     |imp_n       |imp_p       |universe_id |fill_id     \n",
       "------------------------------------------------------------------------------------------\n",
       "999         |0           |0.0         |0.0         |0.0         |0           |0           "
      ]
     },
     "execution_count": 20,
     "metadata": {},
     "output_type": "execute_result"
    }
   ],
   "source": [
    "mcnp_input.cells.filter(lambda cell: cell.start_line in range(7, 20))"
   ]
  },
  {
   "cell_type": "code",
   "execution_count": 21,
   "metadata": {},
   "outputs": [
    {
     "data": {
      "text/plain": [
       "{100, 101, 102}"
      ]
     },
     "execution_count": 21,
     "metadata": {},
     "output_type": "execute_result"
    }
   ],
   "source": [
    "mcnp_input.cells.filter(lambda cell: cell.mat_id == 2).get_surfaces()"
   ]
  },
  {
   "cell_type": "code",
   "execution_count": 22,
   "metadata": {},
   "outputs": [
    {
     "data": {
      "text/plain": [
       "id          |surface_type\n",
       "-------------------------\n",
       "1           |PX          \n",
       "2           |PX          \n",
       "3           |PY          \n",
       "4           |PY          \n",
       "5           |PZ          \n",
       "6           |PZ          "
      ]
     },
     "execution_count": 22,
     "metadata": {},
     "output_type": "execute_result"
    }
   ],
   "source": [
    "mcnp_input.surfaces.filter(lambda surf: surf.id < 10)"
   ]
  },
  {
   "cell_type": "markdown",
   "metadata": {},
   "source": [
    "## Extract method"
   ]
  },
  {
   "cell_type": "code",
   "execution_count": 23,
   "metadata": {},
   "outputs": [
    {
     "data": {
      "text/plain": [
       "Title: Extracted from Water phantom\n",
       "\n",
       "The input contains:\n",
       "# of cells: 1\n",
       "# of surfaces: 3\n",
       "# of materials: 1\n",
       "# of transformations: 0"
      ]
     },
     "execution_count": 23,
     "metadata": {},
     "output_type": "execute_result"
    }
   ],
   "source": [
    "mcnp_input.extract(lambda cell: cell.mat_id == 2)"
   ]
  },
  {
   "cell_type": "code",
   "execution_count": 24,
   "metadata": {},
   "outputs": [
    {
     "data": {
      "text/plain": [
       "[[6, 8], [22, 23], [23, 24], [24, 25], [31, 33]]"
      ]
     },
     "execution_count": 24,
     "metadata": {},
     "output_type": "execute_result"
    }
   ],
   "source": [
    "mcnp_input.extract(lambda cell: cell.mat_id == 2).get_start_end_lines() # list of start-stop line numbers"
   ]
  },
  {
   "cell_type": "markdown",
   "metadata": {},
   "source": [
    "## to_csv method"
   ]
  },
  {
   "cell_type": "code",
   "execution_count": 25,
   "metadata": {},
   "outputs": [],
   "source": [
    "mcnp_input.cells.filter(lambda cell: cell.mat_id==1).to_csv('cells.csv', ['id','mat_id','density','fill_id'])"
   ]
  },
  {
   "cell_type": "code",
   "execution_count": 26,
   "metadata": {},
   "outputs": [
    {
     "name": "stdout",
     "output_type": "stream",
     "text": [
      "id,mat_id,density,fill_id\r",
      "\r\n",
      "1,1,-1.0,1\r",
      "\r\n",
      "10,1,-1.0,0\r",
      "\r\n"
     ]
    }
   ],
   "source": [
    "csv_cells = 'cells.csv'\n",
    "!cat $csv_cells"
   ]
  },
  {
   "cell_type": "code",
   "execution_count": null,
   "metadata": {},
   "outputs": [],
   "source": []
  }
 ],
 "metadata": {
  "kernelspec": {
   "display_name": "Python 3",
   "language": "python",
   "name": "python3"
  },
  "language_info": {
   "codemirror_mode": {
    "name": "ipython",
    "version": 3
   },
   "file_extension": ".py",
   "mimetype": "text/x-python",
   "name": "python",
   "nbconvert_exporter": "python",
   "pygments_lexer": "ipython3",
   "version": "3.8.5"
  }
 },
 "nbformat": 4,
 "nbformat_minor": 4
}
